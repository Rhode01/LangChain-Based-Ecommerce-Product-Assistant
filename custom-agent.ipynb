{
 "cells": [
  {
   "cell_type": "code",
   "execution_count": null,
   "metadata": {},
   "outputs": [],
   "source": [
    "from langchain.prompts import ChatPromptTemplate\n",
    "from langchain.chat_models import ChatOpenAI\n",
    "from langchain.agents.output_parsers import OpenAIFunctionsAgentOutputParser\n",
    "from langchain.tools import tool\n",
    "from langchain.schema.runnable import RunnablePassthrough\n",
    "from pydantic import BaseModel, Field\n",
    "from typing import List, Optional\n",
    "import requests\n",
    "from langchain.schema.agent import AgentFinish"
   ]
  },
  {
   "cell_type": "code",
   "execution_count": 5,
   "metadata": {},
   "outputs": [],
   "source": [
    "class productDetails(BaseModel):\n",
    "    product_category: str = Field(description=\"The name of the product required\")\n",
    "    product_id : int = Field(description=\"The id of the desired product to look for \")\n",
    "class DiscountDetails(BaseModel):\n",
    "    min_discount: float = Field(description=\"The minmum discount price of the product to look for\")\n",
    "    max_discount : float = Field(description=\"The maxmum discount price of the product to look for \")"
   ]
  },
  {
   "cell_type": "code",
   "execution_count": 6,
   "metadata": {},
   "outputs": [],
   "source": [
    "@tool(args_schema=productDetails)\n",
    "def get_product_information(product_category:str, product_id:int) ->dict:\n",
    "     \"\"\"get details of a given product name of the given url\"\"\"\n",
    "     url = \"http://localhost/ecommerce_data/data.json\"\n",
    "     response = requests.get(url)\n",
    "     if response.status_code ==200:\n",
    "          data= response.json()\n",
    "          for product in data[product_category]:\n",
    "               if product['id'] == product_id:\n",
    "                    return product\n",
    "               return {\"error\": \"Product not found\"}\n",
    "          return {\"error\": f\"Sorry, I couldn't find a product with ID {product_id} in the {product_category} category. Can you double-check or try again?\"}\n",
    "     else:\n",
    "          raise Exception(f\"API Request failed with status code: {response.status_code}\")"
   ]
  },
  {
   "cell_type": "code",
   "execution_count": 7,
   "metadata": {},
   "outputs": [],
   "source": [
    "@tool(args_schema=DiscountDetails)\n",
    "def get_discounted_products(min_discount:float, max_discount:float) -> dict:\n",
    "    \"\"\"Search for all products that have discounts available\"\"\"\n",
    "    url = \"http://localhost/ecommerce_data/data.json\"\n",
    "    response = requests.get(url)\n",
    "\n",
    "    if response.status_code == 200:\n",
    "        data = response.json()\n",
    "        discounted_products = []\n",
    "        for product in data['discountItems']:\n",
    "            if min_discount <= float(product['price']) <= max_discount:\n",
    "                discounted_products.append({\n",
    "                    \n",
    "                    'name': product['name'],\n",
    "                    'price': product['price'],\n",
    "                    'cover': product['cover']\n",
    "                })\n",
    "            if not discounted_products:\n",
    "                return {\"error\": \"Sorry, no discounted products were found in that price range.\"}\n",
    "        return discounted_products\n",
    "        \n",
    "    else:\n",
    "        raise Exception(f\"API Request failed with status code: {response.status_code}\")\n"
   ]
  },
  {
   "cell_type": "code",
   "execution_count": 95,
   "metadata": {},
   "outputs": [],
   "source": [
    "def classfy_intent(user_input)-> str:\n",
    "    \"\"\"Classifies the user's intent based on the input.\"\"\"\n",
    "    if \"min_discount\" in user_input or \"max_discount\" in user_input:\n",
    "        return \"get_discounted_products\"\n",
    "    elif \"product_id\" in user_input or \"details\" in user_input:\n",
    "        return \"get_product_information\"\n",
    "    else:\n",
    "        return \"fallback\""
   ]
  },
  {
   "cell_type": "code",
   "execution_count": 65,
   "metadata": {},
   "outputs": [],
   "source": [
    "\n",
    "def route_to(result):\n",
    "    if isinstance(result, AgentFinish):\n",
    "        return result.return_values['output']\n",
    "    else:\n",
    "        intent = classfy_intent(result.tool_input)\n",
    "        tools = {\n",
    "            \"get_discounted_products\": get_discounted_products, \n",
    "            \"get_product_information\": get_product_information,\n",
    "        }\n",
    "        if intent in tools:\n",
    "            return tools[intent].run(result.tool_input)\n",
    "        else:\n",
    "            return \"I'm sorry, I didn't quite understand that. Can you please clarify?\""
   ]
  },
  {
   "cell_type": "code",
   "execution_count": 66,
   "metadata": {},
   "outputs": [],
   "source": [
    "from langchain.tools.render import format_tool_to_openai_function\n",
    "\n",
    "functions = [\n",
    "   format_tool_to_openai_function(get_product_information), \n",
    "   format_tool_to_openai_function(get_discounted_products)\n",
    "]"
   ]
  },
  {
   "cell_type": "code",
   "execution_count": 67,
   "metadata": {},
   "outputs": [],
   "source": [
    "model = ChatOpenAI(temperature=0).bind(functions=functions)\n",
    "prompt =ChatPromptTemplate.from_messages([\n",
    "    (\"system\", \"You are Tata, a friendly and Expert business assistant who helps Rhodrick with selling a wide variety of products.  You know everything about product prices, discounts, and the best offers available. Your goal is to provide personalized recommendations and assist customers efficiently and cheerfully.\"),\n",
    "    (\"system\", \"When you don't know something, politely say 'I'm not sure about that, but I can try to find more information for you!' instead of making up suggestions that are not valid.\"),\n",
    "    (\"system\", \"If a customer asks a follow-up question or requests more information, do your best to provide a helpful and accurate response.\"),\n",
    "    (\"user\", \"{input}\"),\n",
    "])"
   ]
  },
  {
   "cell_type": "code",
   "execution_count": 111,
   "metadata": {},
   "outputs": [],
   "source": [
    "chain = prompt | model | OpenAIFunctionsAgentOutputParser() | route_to"
   ]
  },
  {
   "cell_type": "code",
   "execution_count": 112,
   "metadata": {},
   "outputs": [],
   "source": [
    "response = chain.invoke({\"input\":\"show me productItems that have id 1\"})\n"
   ]
  },
  {
   "cell_type": "code",
   "execution_count": 113,
   "metadata": {},
   "outputs": [
    {
     "data": {
      "text/plain": [
       "{'id': 1,\n",
       " 'discount': 50,\n",
       " 'cover': 'http://169.254.228.82/ecommerce_data/images/flash/flash-1.png',\n",
       " 'name': 'Shoes',\n",
       " 'price': 100}"
      ]
     },
     "execution_count": 113,
     "metadata": {},
     "output_type": "execute_result"
    }
   ],
   "source": [
    "response"
   ]
  },
  {
   "cell_type": "code",
   "execution_count": null,
   "metadata": {},
   "outputs": [],
   "source": []
  }
 ],
 "metadata": {
  "kernelspec": {
   "display_name": ".venv",
   "language": "python",
   "name": "python3"
  },
  "language_info": {
   "codemirror_mode": {
    "name": "ipython",
    "version": 3
   },
   "file_extension": ".py",
   "mimetype": "text/x-python",
   "name": "python",
   "nbconvert_exporter": "python",
   "pygments_lexer": "ipython3",
   "version": "3.11.0"
  }
 },
 "nbformat": 4,
 "nbformat_minor": 4
}

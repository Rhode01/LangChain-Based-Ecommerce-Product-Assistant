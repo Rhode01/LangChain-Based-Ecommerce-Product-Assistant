{
 "cells": [
  {
   "cell_type": "code",
   "execution_count": 60,
   "metadata": {},
   "outputs": [],
   "source": [
    "from langchain.prompts import ChatPromptTemplate\n",
    "from langchain.chat_models import ChatOpenAI\n",
    "from langchain.agents.output_parsers import OpenAIFunctionsAgentOutputParser\n",
    "from langchain.tools import tool\n",
    "from langchain.schema.runnable import RunnablePassthrough\n",
    "from pydantic import BaseModel, Field\n",
    "from typing import List, Optional\n",
    "import requests\n",
    "from langchain.schema.agent import AgentFinish"
   ]
  },
  {
   "cell_type": "code",
   "execution_count": 33,
   "metadata": {},
   "outputs": [],
   "source": [
    "class productDetails(BaseModel):\n",
    "    product_category: str = Field(description=\"The name of the product required\")\n",
    "    product_id : int = Field(description=\"The id of the desired product to look for \")\n",
    "class DiscountDetails(BaseModel):\n",
    "    min_discount: float = Field(description=\"The minmum discount price of the product to look for\")\n",
    "    max_discount : float = Field(description=\"The maxmum discount price of the product to look for \")"
   ]
  },
  {
   "cell_type": "code",
   "execution_count": 35,
   "metadata": {},
   "outputs": [],
   "source": [
    "@tool(args_schema=productDetails)\n",
    "def get_product_information(product_category:str, product_id:int) ->dict:\n",
    "     \"\"\"get details of a given product name of the given url\"\"\"\n",
    "     url = \"http://localhost/ecommerce_data/data.json\"\n",
    "     response = requests.get(url)\n",
    "     if response.status_code ==200:\n",
    "          data= response.json()\n",
    "          for product in data[product_category]:\n",
    "               if product['id'] == product_id:\n",
    "                    return product\n",
    "               return {\"error\": \"Product not found\"}\n",
    "     else:\n",
    "          raise Exception(f\"API Request failed with status code: {response.status_code}\")"
   ]
  },
  {
   "cell_type": "code",
   "execution_count": 71,
   "metadata": {},
   "outputs": [],
   "source": [
    "@tool(args_schema=DiscountDetails)\n",
    "def get_discounted_products(min_discount:float, max_discount:float) -> dict:\n",
    "    \"\"\"Search for all products that have discounts available\"\"\"\n",
    "    url = \"http://localhost/ecommerce_data/data.json\"\n",
    "    response = requests.get(url)\n",
    "\n",
    "    if response.status_code == 200:\n",
    "        data = response.json()\n",
    "        discounted_products = []\n",
    "        for product in data['discountItems']:\n",
    "            if min_discount <= float(product['price']) <= max_discount:\n",
    "                discounted_products.append({\n",
    "                    \n",
    "                    'name': product['name'],\n",
    "                    'price': product['price'],\n",
    "                    'cover': product['cover']\n",
    "                })\n",
    "        return discounted_products\n",
    "    else:\n",
    "        raise Exception(f\"API Request failed with status code: {response.status_code}\")\n"
   ]
  },
  {
   "cell_type": "code",
   "execution_count": 45,
   "metadata": {},
   "outputs": [
    {
     "name": "stderr",
     "output_type": "stream",
     "text": [
      "C:\\Users\\Design Dep\\AppData\\Local\\Temp\\ipykernel_12708\\67842453.py:4: LangChainDeprecationWarning: The function `format_tool_to_openai_function` was deprecated in LangChain 0.1.16 and will be removed in 1.0. Use :meth:`~langchain_core.utils.function_calling.convert_to_openai_function()` instead.\n",
      "  format_tool_to_openai_function(get_product_information),\n"
     ]
    }
   ],
   "source": [
    "from langchain.tools.render import format_tool_to_openai_function\n",
    "\n",
    "functions = [\n",
    "   format_tool_to_openai_function(get_product_information), \n",
    "   format_tool_to_openai_function(get_discounted_products)\n",
    "]"
   ]
  },
  {
   "cell_type": "code",
   "execution_count": null,
   "metadata": {},
   "outputs": [],
   "source": []
  },
  {
   "cell_type": "code",
   "execution_count": 49,
   "metadata": {},
   "outputs": [
    {
     "data": {
      "text/plain": [
       "AIMessage(content='', additional_kwargs={'function_call': {'arguments': '{\"min_discount\":100,\"max_discount\":200}', 'name': 'get_discounted_products'}}, response_metadata={'token_usage': {'completion_tokens': 22, 'prompt_tokens': 150, 'total_tokens': 172, 'completion_tokens_details': {'audio_tokens': 0, 'reasoning_tokens': 0, 'accepted_prediction_tokens': 0, 'rejected_prediction_tokens': 0}, 'prompt_tokens_details': {'audio_tokens': 0, 'cached_tokens': 0}}, 'model_name': 'gpt-3.5-turbo', 'system_fingerprint': None, 'finish_reason': 'function_call', 'logprobs': None}, id='run-2a1e6267-745c-45ec-8075-3f925af9b2f6-0')"
      ]
     },
     "execution_count": 49,
     "metadata": {},
     "output_type": "execute_result"
    }
   ],
   "source": [
    "model.invoke(\"how many products have discount between 100 to 200?\")"
   ]
  },
  {
   "cell_type": "code",
   "execution_count": null,
   "metadata": {},
   "outputs": [],
   "source": [
    "model = ChatOpenAI(temperature=0).bind(functions=functions)\n",
    "prompt =ChatPromptTemplate.from_messages([\n",
    "    (\"system\", \"Your a helpful intelligent and sassy business assistant for Rhodrick that sells differents products\"),\n",
    "    (\"user\", \"{input}\"),\n",
    "])"
   ]
  },
  {
   "cell_type": "code",
   "execution_count": 61,
   "metadata": {},
   "outputs": [],
   "source": [
    "\n",
    "def route_to(result):\n",
    "    if isinstance(result, AgentFinish):\n",
    "        return result.return_values['output']\n",
    "    else:\n",
    "        tools = {\n",
    "            \"get_discounted_products\": get_discounted_products, \n",
    "            \"get_product_information\": get_product_information,\n",
    "        }\n",
    "        return tools[result.tool].run(result.tool_input)"
   ]
  },
  {
   "cell_type": "code",
   "execution_count": 62,
   "metadata": {},
   "outputs": [],
   "source": [
    "chain = prompt |model|OpenAIFunctionsAgentOutputParser()|route_to\n"
   ]
  },
  {
   "cell_type": "code",
   "execution_count": null,
   "metadata": {},
   "outputs": [],
   "source": []
  },
  {
   "cell_type": "code",
   "execution_count": 74,
   "metadata": {},
   "outputs": [
    {
     "data": {
      "text/plain": [
       "[{'name': 'Setgearr 2022',\n",
       "  'price': '100',\n",
       "  'cover': 'http://169.254.228.82/ecommerce_data/images/discount/discount-4.png'}]"
      ]
     },
     "execution_count": 74,
     "metadata": {},
     "output_type": "execute_result"
    }
   ],
   "source": [
    "chain.invoke({\"input\":\"show me products with discount  100\"})"
   ]
  },
  {
   "cell_type": "code",
   "execution_count": null,
   "metadata": {},
   "outputs": [],
   "source": []
  }
 ],
 "metadata": {
  "kernelspec": {
   "display_name": ".venv",
   "language": "python",
   "name": "python3"
  },
  "language_info": {
   "codemirror_mode": {
    "name": "ipython",
    "version": 3
   },
   "file_extension": ".py",
   "mimetype": "text/x-python",
   "name": "python",
   "nbconvert_exporter": "python",
   "pygments_lexer": "ipython3",
   "version": "3.11.0"
  }
 },
 "nbformat": 4,
 "nbformat_minor": 2
}
